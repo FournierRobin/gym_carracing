{
 "cells": [
  {
   "cell_type": "code",
   "execution_count": 1,
   "metadata": {},
   "outputs": [],
   "source": [
    "import gym\n",
    "from stable_baselines3 import PPO\n",
    "from stable_baselines3.common.vec_env import DummyVecEnv\n",
    "from stable_baselines3.common.evaluation import evaluate_policy\n",
    "import optuna"
   ]
  },
  {
   "cell_type": "code",
   "execution_count": 2,
   "metadata": {},
   "outputs": [],
   "source": [
    "environment_name = 'CarRacing-v0'\n",
    "env = gym.make(environment_name)"
   ]
  },
  {
   "attachments": {},
   "cell_type": "markdown",
   "metadata": {},
   "source": [
    "On charge le meilleur model à partir des resultats d'experience Optuna :"
   ]
  },
  {
   "cell_type": "code",
   "execution_count": 3,
   "metadata": {},
   "outputs": [],
   "source": [
    "load_model_path = f'models/study__200k/PPO_0.00039317898096148755_0.9183776997781369__0.21404777037661815_0.00093977018380121__model'\n",
    "model = PPO.load(load_model_path, env=env)"
   ]
  },
  {
   "cell_type": "code",
   "execution_count": 4,
   "metadata": {},
   "outputs": [
    {
     "name": "stderr",
     "output_type": "stream",
     "text": [
      "/Users/robinfournier/Desktop/YNOV/RL/car_racing/carracingenv/lib/python3.10/site-packages/stable_baselines3/common/evaluation.py:69: UserWarning: Evaluation environment is not wrapped with a ``Monitor`` wrapper. This may result in reporting modified episode lengths and rewards, if other wrappers happen to modify these. Consider wrapping environment first with ``Monitor`` wrapper.\n",
      "  warnings.warn(\n"
     ]
    },
    {
     "name": "stdout",
     "output_type": "stream",
     "text": [
      "Track generation: 1165..1462 -> 297-tiles track\n",
      "retry to generate track (normal if there are not manyinstances of this message)\n",
      "Track generation: 1170..1469 -> 299-tiles track\n",
      "retry to generate track (normal if there are not manyinstances of this message)\n",
      "Track generation: 1130..1423 -> 293-tiles track\n"
     ]
    },
    {
     "name": "stderr",
     "output_type": "stream",
     "text": [
      "2023-03-27 09:51:00.543 Python[34666:5681757] ApplePersistenceIgnoreState: Existing state will not be touched. New state will be written to /var/folders/y0/7mmq5kp12fq249dxyngjmwv80000gn/T/org.python.python.savedState\n"
     ]
    },
    {
     "name": "stdout",
     "output_type": "stream",
     "text": [
      "Track generation: 1183..1483 -> 300-tiles track\n",
      "Track generation: 1141..1430 -> 289-tiles track\n",
      "Track generation: 1159..1453 -> 294-tiles track\n",
      "Track generation: 1300..1629 -> 329-tiles track\n",
      "Track generation: 1092..1369 -> 277-tiles track\n"
     ]
    }
   ],
   "source": [
    "mean_reward, std_reward = evaluate_policy(model, env, n_eval_episodes=5, render=True)"
   ]
  },
  {
   "attachments": {},
   "cell_type": "markdown",
   "metadata": {},
   "source": [
    "On charge le model à 1M de timesteps pour tester"
   ]
  },
  {
   "attachments": {},
   "cell_type": "markdown",
   "metadata": {},
   "source": []
  },
  {
   "cell_type": "code",
   "execution_count": 5,
   "metadata": {},
   "outputs": [
    {
     "name": "stdout",
     "output_type": "stream",
     "text": [
      "Wrapping the env with a `Monitor` wrapper\n",
      "Wrapping the env in a DummyVecEnv.\n",
      "Wrapping the env in a VecTransposeImage.\n"
     ]
    }
   ],
   "source": [
    "load_model_path = f'models/PPO_1M_base__model'\n",
    "model = PPO.load(load_model_path, env=env)"
   ]
  },
  {
   "cell_type": "code",
   "execution_count": 6,
   "metadata": {},
   "outputs": [
    {
     "name": "stdout",
     "output_type": "stream",
     "text": [
      "Track generation: 1220..1529 -> 309-tiles track\n",
      "Track generation: 1043..1308 -> 265-tiles track\n",
      "Track generation: 1130..1417 -> 287-tiles track\n",
      "Track generation: 1096..1377 -> 281-tiles track\n",
      "retry to generate track (normal if there are not manyinstances of this message)\n",
      "Track generation: 1090..1374 -> 284-tiles track\n"
     ]
    },
    {
     "ename": "KeyboardInterrupt",
     "evalue": "",
     "output_type": "error",
     "traceback": [
      "\u001b[0;31m---------------------------------------------------------------------------\u001b[0m",
      "\u001b[0;31mKeyboardInterrupt\u001b[0m                         Traceback (most recent call last)",
      "Cell \u001b[0;32mIn[6], line 1\u001b[0m\n\u001b[0;32m----> 1\u001b[0m mean_reward, std_reward \u001b[39m=\u001b[39m evaluate_policy(model, env, n_eval_episodes\u001b[39m=\u001b[39;49m\u001b[39m5\u001b[39;49m, render\u001b[39m=\u001b[39;49m\u001b[39mTrue\u001b[39;49;00m)\n",
      "File \u001b[0;32m~/Desktop/YNOV/RL/car_racing/carracingenv/lib/python3.10/site-packages/stable_baselines3/common/evaluation.py:129\u001b[0m, in \u001b[0;36mevaluate_policy\u001b[0;34m(model, env, n_eval_episodes, deterministic, render, callback, reward_threshold, return_episode_rewards, warn)\u001b[0m\n\u001b[1;32m    126\u001b[0m                 current_lengths[i] \u001b[39m=\u001b[39m \u001b[39m0\u001b[39m\n\u001b[1;32m    128\u001b[0m     \u001b[39mif\u001b[39;00m render:\n\u001b[0;32m--> 129\u001b[0m         env\u001b[39m.\u001b[39;49mrender()\n\u001b[1;32m    131\u001b[0m mean_reward \u001b[39m=\u001b[39m np\u001b[39m.\u001b[39mmean(episode_rewards)\n\u001b[1;32m    132\u001b[0m std_reward \u001b[39m=\u001b[39m np\u001b[39m.\u001b[39mstd(episode_rewards)\n",
      "File \u001b[0;32m~/Desktop/YNOV/RL/car_racing/carracingenv/lib/python3.10/site-packages/stable_baselines3/common/vec_env/dummy_vec_env.py:98\u001b[0m, in \u001b[0;36mDummyVecEnv.render\u001b[0;34m(self, mode)\u001b[0m\n\u001b[1;32m     86\u001b[0m \u001b[39m\u001b[39m\u001b[39m\"\"\"\u001b[39;00m\n\u001b[1;32m     87\u001b[0m \u001b[39mGym environment rendering. If there are multiple environments then\u001b[39;00m\n\u001b[1;32m     88\u001b[0m \u001b[39mthey are tiled together in one image via ``BaseVecEnv.render()``.\u001b[39;00m\n\u001b[0;32m   (...)\u001b[0m\n\u001b[1;32m     95\u001b[0m \u001b[39m:param mode: The rendering type.\u001b[39;00m\n\u001b[1;32m     96\u001b[0m \u001b[39m\"\"\"\u001b[39;00m\n\u001b[1;32m     97\u001b[0m \u001b[39mif\u001b[39;00m \u001b[39mself\u001b[39m\u001b[39m.\u001b[39mnum_envs \u001b[39m==\u001b[39m \u001b[39m1\u001b[39m:\n\u001b[0;32m---> 98\u001b[0m     \u001b[39mreturn\u001b[39;00m \u001b[39mself\u001b[39;49m\u001b[39m.\u001b[39;49menvs[\u001b[39m0\u001b[39;49m]\u001b[39m.\u001b[39;49mrender(mode\u001b[39m=\u001b[39;49mmode)\n\u001b[1;32m     99\u001b[0m \u001b[39melse\u001b[39;00m:\n\u001b[1;32m    100\u001b[0m     \u001b[39mreturn\u001b[39;00m \u001b[39msuper\u001b[39m()\u001b[39m.\u001b[39mrender(mode\u001b[39m=\u001b[39mmode)\n",
      "File \u001b[0;32m~/Desktop/YNOV/RL/car_racing/carracingenv/lib/python3.10/site-packages/gym/core.py:295\u001b[0m, in \u001b[0;36mWrapper.render\u001b[0;34m(self, mode, **kwargs)\u001b[0m\n\u001b[1;32m    294\u001b[0m \u001b[39mdef\u001b[39;00m \u001b[39mrender\u001b[39m(\u001b[39mself\u001b[39m, mode\u001b[39m=\u001b[39m\u001b[39m\"\u001b[39m\u001b[39mhuman\u001b[39m\u001b[39m\"\u001b[39m, \u001b[39m*\u001b[39m\u001b[39m*\u001b[39mkwargs):\n\u001b[0;32m--> 295\u001b[0m     \u001b[39mreturn\u001b[39;00m \u001b[39mself\u001b[39;49m\u001b[39m.\u001b[39;49menv\u001b[39m.\u001b[39;49mrender(mode, \u001b[39m*\u001b[39;49m\u001b[39m*\u001b[39;49mkwargs)\n",
      "File \u001b[0;32m~/Desktop/YNOV/RL/car_racing/carracingenv/lib/python3.10/site-packages/gym/envs/box2d/car_racing.py:460\u001b[0m, in \u001b[0;36mCarRacing.render\u001b[0;34m(self, mode)\u001b[0m\n\u001b[1;32m    458\u001b[0m gl\u001b[39m.\u001b[39mglViewport(\u001b[39m0\u001b[39m, \u001b[39m0\u001b[39m, VP_W, VP_H)\n\u001b[1;32m    459\u001b[0m t\u001b[39m.\u001b[39menable()\n\u001b[0;32m--> 460\u001b[0m \u001b[39mself\u001b[39;49m\u001b[39m.\u001b[39;49mrender_road()\n\u001b[1;32m    461\u001b[0m \u001b[39mfor\u001b[39;00m geom \u001b[39min\u001b[39;00m \u001b[39mself\u001b[39m\u001b[39m.\u001b[39mviewer\u001b[39m.\u001b[39monetime_geoms:\n\u001b[1;32m    462\u001b[0m     geom\u001b[39m.\u001b[39mrender()\n",
      "File \u001b[0;32m~/Desktop/YNOV/RL/car_racing/carracingenv/lib/python3.10/site-packages/gym/envs/box2d/car_racing.py:528\u001b[0m, in \u001b[0;36mCarRacing.render_road\u001b[0;34m(self)\u001b[0m\n\u001b[1;32m    525\u001b[0m     \u001b[39mfor\u001b[39;00m p \u001b[39min\u001b[39;00m poly:\n\u001b[1;32m    526\u001b[0m         polygons_\u001b[39m.\u001b[39mextend([p[\u001b[39m0\u001b[39m], p[\u001b[39m1\u001b[39m], \u001b[39m0\u001b[39m])\n\u001b[0;32m--> 528\u001b[0m vl \u001b[39m=\u001b[39m pyglet\u001b[39m.\u001b[39;49mgraphics\u001b[39m.\u001b[39;49mvertex_list(\n\u001b[1;32m    529\u001b[0m     \u001b[39mlen\u001b[39;49m(polygons_) \u001b[39m/\u001b[39;49m\u001b[39m/\u001b[39;49m \u001b[39m3\u001b[39;49m, (\u001b[39m\"\u001b[39;49m\u001b[39mv3f\u001b[39;49m\u001b[39m\"\u001b[39;49m, polygons_), (\u001b[39m\"\u001b[39;49m\u001b[39mc4f\u001b[39;49m\u001b[39m\"\u001b[39;49m, colors)\n\u001b[1;32m    530\u001b[0m )  \u001b[39m# gl.GL_QUADS,\u001b[39;00m\n\u001b[1;32m    531\u001b[0m vl\u001b[39m.\u001b[39mdraw(gl\u001b[39m.\u001b[39mGL_QUADS)\n\u001b[1;32m    532\u001b[0m vl\u001b[39m.\u001b[39mdelete()\n",
      "File \u001b[0;32m~/Desktop/YNOV/RL/car_racing/carracingenv/lib/python3.10/site-packages/pyglet/graphics/__init__.py:288\u001b[0m, in \u001b[0;36mvertex_list\u001b[0;34m(count, *data)\u001b[0m\n\u001b[1;32m    275\u001b[0m \u001b[39m\u001b[39m\u001b[39m\"\"\"Create a :py:class:`~pyglet.graphics.vertexdomain.VertexList` not associated with a batch, group or mode.\u001b[39;00m\n\u001b[1;32m    276\u001b[0m \n\u001b[1;32m    277\u001b[0m \u001b[39m:Parameters:\u001b[39;00m\n\u001b[0;32m   (...)\u001b[0m\n\u001b[1;32m    284\u001b[0m \u001b[39m:rtype: :py:class:`~pyglet.graphics.vertexdomain.VertexList`\u001b[39;00m\n\u001b[1;32m    285\u001b[0m \u001b[39m\"\"\"\u001b[39;00m\n\u001b[1;32m    286\u001b[0m \u001b[39m# Note that mode=0 because the default batch is never drawn: vertex lists\u001b[39;00m\n\u001b[1;32m    287\u001b[0m \u001b[39m# returned from this function are drawn directly by the app.\u001b[39;00m\n\u001b[0;32m--> 288\u001b[0m \u001b[39mreturn\u001b[39;00m _get_default_batch()\u001b[39m.\u001b[39;49madd(count, \u001b[39m0\u001b[39;49m, \u001b[39mNone\u001b[39;49;00m, \u001b[39m*\u001b[39;49mdata)\n",
      "File \u001b[0;32m~/Desktop/YNOV/RL/car_racing/carracingenv/lib/python3.10/site-packages/pyglet/graphics/__init__.py:371\u001b[0m, in \u001b[0;36mBatch.add\u001b[0;34m(self, count, mode, group, *data)\u001b[0m\n\u001b[1;32m    369\u001b[0m vlist \u001b[39m=\u001b[39m domain\u001b[39m.\u001b[39mcreate(count)\n\u001b[1;32m    370\u001b[0m \u001b[39mfor\u001b[39;00m i, array \u001b[39min\u001b[39;00m initial_arrays:\n\u001b[0;32m--> 371\u001b[0m     vlist\u001b[39m.\u001b[39;49m_set_attribute_data(i, array)\n\u001b[1;32m    373\u001b[0m \u001b[39mreturn\u001b[39;00m vlist\n",
      "File \u001b[0;32m~/Desktop/YNOV/RL/car_racing/carracingenv/lib/python3.10/site-packages/pyglet/graphics/vertexdomain.py:448\u001b[0m, in \u001b[0;36mVertexList._set_attribute_data\u001b[0;34m(self, i, data)\u001b[0m\n\u001b[1;32m    446\u001b[0m region \u001b[39m=\u001b[39m attribute\u001b[39m.\u001b[39mget_region(attribute\u001b[39m.\u001b[39mbuffer, \u001b[39mself\u001b[39m\u001b[39m.\u001b[39mstart, \u001b[39mself\u001b[39m\u001b[39m.\u001b[39mcount)\n\u001b[1;32m    447\u001b[0m region\u001b[39m.\u001b[39marray[:] \u001b[39m=\u001b[39m data\n\u001b[0;32m--> 448\u001b[0m region\u001b[39m.\u001b[39;49minvalidate()\n",
      "File \u001b[0;32m~/Desktop/YNOV/RL/car_racing/carracingenv/lib/python3.10/site-packages/pyglet/graphics/vertexbuffer.py:473\u001b[0m, in \u001b[0;36mVertexBufferObjectRegion.invalidate\u001b[0;34m(self)\u001b[0m\n\u001b[1;32m    470\u001b[0m     \u001b[39mself\u001b[39m\u001b[39m.\u001b[39mend \u001b[39m=\u001b[39m end\n\u001b[1;32m    471\u001b[0m     \u001b[39mself\u001b[39m\u001b[39m.\u001b[39marray \u001b[39m=\u001b[39m array\n\u001b[0;32m--> 473\u001b[0m \u001b[39mdef\u001b[39;00m \u001b[39minvalidate\u001b[39m(\u001b[39mself\u001b[39m):\n\u001b[1;32m    474\u001b[0m     buffer \u001b[39m=\u001b[39m \u001b[39mself\u001b[39m\u001b[39m.\u001b[39mbuffer\n\u001b[1;32m    475\u001b[0m     buffer\u001b[39m.\u001b[39m_dirty_min \u001b[39m=\u001b[39m \u001b[39mmin\u001b[39m(buffer\u001b[39m.\u001b[39m_dirty_min, \u001b[39mself\u001b[39m\u001b[39m.\u001b[39mstart)\n",
      "\u001b[0;31mKeyboardInterrupt\u001b[0m: "
     ]
    }
   ],
   "source": [
    "mean_reward, std_reward = evaluate_policy(model, env, n_eval_episodes=5, render=True)"
   ]
  },
  {
   "cell_type": "code",
   "execution_count": null,
   "metadata": {},
   "outputs": [],
   "source": [
    "print('Récompense moyenne :', mean_reward, '||| Écart type :', std_reward)"
   ]
  }
 ],
 "metadata": {
  "kernelspec": {
   "display_name": "carracingenv",
   "language": "python",
   "name": "python3"
  },
  "language_info": {
   "codemirror_mode": {
    "name": "ipython",
    "version": 3
   },
   "file_extension": ".py",
   "mimetype": "text/x-python",
   "name": "python",
   "nbconvert_exporter": "python",
   "pygments_lexer": "ipython3",
   "version": "3.10.5"
  },
  "orig_nbformat": 4
 },
 "nbformat": 4,
 "nbformat_minor": 2
}
